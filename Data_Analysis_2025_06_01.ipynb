{
  "cells": [
    {
      "cell_type": "code",
      "execution_count": 33,
      "metadata": {
        "id": "9c04fbc5"
      },
      "outputs": [],
      "source": [
        "# import libraries\n",
        "import pandas as pd\n",
        "import numpy as np\n"
      ]
    },
    {
      "cell_type": "code",
      "execution_count": 34,
      "metadata": {},
      "outputs": [
        {
          "data": {
            "text/plain": [
              "AirBags\n",
              "Driver only           79\n",
              "Driver & Passenger    14\n",
              "Name: count, dtype: int64"
            ]
          },
          "execution_count": 34,
          "metadata": {},
          "output_type": "execute_result"
        }
      ],
      "source": [
        "df[\"AirBags\"].value_counts()"
      ]
    },
    {
      "cell_type": "code",
      "execution_count": 35,
      "metadata": {},
      "outputs": [
        {
          "data": {
            "text/plain": [
              "Index(['id', 'Manufacturer', 'Model', 'Type', 'Min.Price', 'Price',\n",
              "       'Max.Price', 'MPG.city', 'MPG.highway', 'AirBags', 'DriveTrain',\n",
              "       'Cylinders', 'EngineSize', 'Horsepower', 'RPM', 'Rev.per.mile',\n",
              "       'Man.trans.avail', 'Fuel.tank.capacity', 'Passengers', 'Length',\n",
              "       'Wheelbase', 'Width', 'Turn.circle', 'Rear.seat.room', 'Luggage.room',\n",
              "       'Weight', 'Origin', 'Make'],\n",
              "      dtype='object')"
            ]
          },
          "execution_count": 35,
          "metadata": {},
          "output_type": "execute_result"
        }
      ],
      "source": [
        "df.columns"
      ]
    },
    {
      "cell_type": "code",
      "execution_count": 36,
      "metadata": {
        "colab": {
          "base_uri": "https://localhost:8080/",
          "height": 236
        },
        "id": "5a3e980e",
        "outputId": "0c85abe3-e3f8-4d04-be2d-6616229aad82"
      },
      "outputs": [
        {
          "data": {
            "text/html": [
              "<div>\n",
              "<style scoped>\n",
              "    .dataframe tbody tr th:only-of-type {\n",
              "        vertical-align: middle;\n",
              "    }\n",
              "\n",
              "    .dataframe tbody tr th {\n",
              "        vertical-align: top;\n",
              "    }\n",
              "\n",
              "    .dataframe thead th {\n",
              "        text-align: right;\n",
              "    }\n",
              "</style>\n",
              "<table border=\"1\" class=\"dataframe\">\n",
              "  <thead>\n",
              "    <tr style=\"text-align: right;\">\n",
              "      <th></th>\n",
              "      <th>id</th>\n",
              "      <th>Manufacturer</th>\n",
              "      <th>Model</th>\n",
              "      <th>Type</th>\n",
              "      <th>Min.Price</th>\n",
              "      <th>Price</th>\n",
              "      <th>Max.Price</th>\n",
              "      <th>MPG.city</th>\n",
              "      <th>MPG.highway</th>\n",
              "      <th>AirBags</th>\n",
              "      <th>...</th>\n",
              "      <th>Passengers</th>\n",
              "      <th>Length</th>\n",
              "      <th>Wheelbase</th>\n",
              "      <th>Width</th>\n",
              "      <th>Turn.circle</th>\n",
              "      <th>Rear.seat.room</th>\n",
              "      <th>Luggage.room</th>\n",
              "      <th>Weight</th>\n",
              "      <th>Origin</th>\n",
              "      <th>Make</th>\n",
              "    </tr>\n",
              "  </thead>\n",
              "  <tbody>\n",
              "    <tr>\n",
              "      <th>0</th>\n",
              "      <td>1</td>\n",
              "      <td>Acura</td>\n",
              "      <td>Integra</td>\n",
              "      <td>Small</td>\n",
              "      <td>12.9</td>\n",
              "      <td>15.9</td>\n",
              "      <td>18.8</td>\n",
              "      <td>25</td>\n",
              "      <td>31</td>\n",
              "      <td>NaN</td>\n",
              "      <td>...</td>\n",
              "      <td>5</td>\n",
              "      <td>177</td>\n",
              "      <td>102</td>\n",
              "      <td>68</td>\n",
              "      <td>37</td>\n",
              "      <td>26.5</td>\n",
              "      <td>11.0</td>\n",
              "      <td>2705</td>\n",
              "      <td>non-USA</td>\n",
              "      <td>Acura Integra</td>\n",
              "    </tr>\n",
              "    <tr>\n",
              "      <th>1</th>\n",
              "      <td>2</td>\n",
              "      <td>Acura</td>\n",
              "      <td>Legend</td>\n",
              "      <td>Midsize</td>\n",
              "      <td>29.2</td>\n",
              "      <td>33.9</td>\n",
              "      <td>38.7</td>\n",
              "      <td>18</td>\n",
              "      <td>25</td>\n",
              "      <td>Driver &amp; Passenger</td>\n",
              "      <td>...</td>\n",
              "      <td>5</td>\n",
              "      <td>195</td>\n",
              "      <td>115</td>\n",
              "      <td>71</td>\n",
              "      <td>38</td>\n",
              "      <td>30.0</td>\n",
              "      <td>15.0</td>\n",
              "      <td>3560</td>\n",
              "      <td>non-USA</td>\n",
              "      <td>Acura Legend</td>\n",
              "    </tr>\n",
              "    <tr>\n",
              "      <th>2</th>\n",
              "      <td>3</td>\n",
              "      <td>Audi</td>\n",
              "      <td>90</td>\n",
              "      <td>Compact</td>\n",
              "      <td>25.9</td>\n",
              "      <td>29.1</td>\n",
              "      <td>32.3</td>\n",
              "      <td>20</td>\n",
              "      <td>26</td>\n",
              "      <td>Driver only</td>\n",
              "      <td>...</td>\n",
              "      <td>5</td>\n",
              "      <td>180</td>\n",
              "      <td>102</td>\n",
              "      <td>67</td>\n",
              "      <td>37</td>\n",
              "      <td>28.0</td>\n",
              "      <td>14.0</td>\n",
              "      <td>3375</td>\n",
              "      <td>non-USA</td>\n",
              "      <td>Audi 90</td>\n",
              "    </tr>\n",
              "    <tr>\n",
              "      <th>3</th>\n",
              "      <td>4</td>\n",
              "      <td>Audi</td>\n",
              "      <td>100</td>\n",
              "      <td>Midsize</td>\n",
              "      <td>30.8</td>\n",
              "      <td>37.7</td>\n",
              "      <td>44.6</td>\n",
              "      <td>19</td>\n",
              "      <td>26</td>\n",
              "      <td>NaN</td>\n",
              "      <td>...</td>\n",
              "      <td>6</td>\n",
              "      <td>193</td>\n",
              "      <td>106</td>\n",
              "      <td>70</td>\n",
              "      <td>37</td>\n",
              "      <td>31.0</td>\n",
              "      <td>17.0</td>\n",
              "      <td>3405</td>\n",
              "      <td>non-USA</td>\n",
              "      <td>Audi 100</td>\n",
              "    </tr>\n",
              "    <tr>\n",
              "      <th>4</th>\n",
              "      <td>5</td>\n",
              "      <td>BMW</td>\n",
              "      <td>535i</td>\n",
              "      <td>Midsize</td>\n",
              "      <td>23.7</td>\n",
              "      <td>30.0</td>\n",
              "      <td>36.2</td>\n",
              "      <td>22</td>\n",
              "      <td>30</td>\n",
              "      <td>Driver only</td>\n",
              "      <td>...</td>\n",
              "      <td>4</td>\n",
              "      <td>186</td>\n",
              "      <td>109</td>\n",
              "      <td>69</td>\n",
              "      <td>39</td>\n",
              "      <td>27.0</td>\n",
              "      <td>13.0</td>\n",
              "      <td>3640</td>\n",
              "      <td>non-USA</td>\n",
              "      <td>BMW 535i</td>\n",
              "    </tr>\n",
              "  </tbody>\n",
              "</table>\n",
              "<p>5 rows × 28 columns</p>\n",
              "</div>"
            ],
            "text/plain": [
              "   id Manufacturer    Model     Type  Min.Price  Price  Max.Price  MPG.city  \\\n",
              "0   1        Acura  Integra    Small       12.9   15.9       18.8        25   \n",
              "1   2        Acura   Legend  Midsize       29.2   33.9       38.7        18   \n",
              "2   3         Audi       90  Compact       25.9   29.1       32.3        20   \n",
              "3   4         Audi      100  Midsize       30.8   37.7       44.6        19   \n",
              "4   5          BMW     535i  Midsize       23.7   30.0       36.2        22   \n",
              "\n",
              "   MPG.highway             AirBags  ... Passengers Length  Wheelbase  Width  \\\n",
              "0           31                 NaN  ...          5    177        102     68   \n",
              "1           25  Driver & Passenger  ...          5    195        115     71   \n",
              "2           26         Driver only  ...          5    180        102     67   \n",
              "3           26                 NaN  ...          6    193        106     70   \n",
              "4           30         Driver only  ...          4    186        109     69   \n",
              "\n",
              "   Turn.circle  Rear.seat.room Luggage.room  Weight   Origin           Make  \n",
              "0           37            26.5         11.0    2705  non-USA  Acura Integra  \n",
              "1           38            30.0         15.0    3560  non-USA   Acura Legend  \n",
              "2           37            28.0         14.0    3375  non-USA        Audi 90  \n",
              "3           37            31.0         17.0    3405  non-USA       Audi 100  \n",
              "4           39            27.0         13.0    3640  non-USA       BMW 535i  \n",
              "\n",
              "[5 rows x 28 columns]"
            ]
          },
          "execution_count": 36,
          "metadata": {},
          "output_type": "execute_result"
        }
      ],
      "source": [
        "# Read external file\n",
        "df=pd.read_csv('cars.csv')\n",
        "df.head()"
      ]
    },
    {
      "cell_type": "code",
      "execution_count": 37,
      "metadata": {
        "colab": {
          "base_uri": "https://localhost:8080/"
        },
        "id": "bb9b838c",
        "outputId": "c3f99787-f783-4369-fa6a-686ce961576d"
      },
      "outputs": [
        {
          "name": "stdout",
          "output_type": "stream",
          "text": [
            "<class 'pandas.core.frame.DataFrame'>\n",
            "RangeIndex: 93 entries, 0 to 92\n",
            "Data columns (total 28 columns):\n",
            " #   Column              Non-Null Count  Dtype  \n",
            "---  ------              --------------  -----  \n",
            " 0   id                  93 non-null     int64  \n",
            " 1   Manufacturer        93 non-null     object \n",
            " 2   Model               93 non-null     object \n",
            " 3   Type                93 non-null     object \n",
            " 4   Min.Price           93 non-null     float64\n",
            " 5   Price               93 non-null     float64\n",
            " 6   Max.Price           93 non-null     float64\n",
            " 7   MPG.city            93 non-null     int64  \n",
            " 8   MPG.highway         93 non-null     int64  \n",
            " 9   AirBags             56 non-null     object \n",
            " 10  DriveTrain          93 non-null     object \n",
            " 11  Cylinders           93 non-null     object \n",
            " 12  EngineSize          93 non-null     float64\n",
            " 13  Horsepower          93 non-null     int64  \n",
            " 14  RPM                 93 non-null     int64  \n",
            " 15  Rev.per.mile        93 non-null     int64  \n",
            " 16  Man.trans.avail     93 non-null     object \n",
            " 17  Fuel.tank.capacity  93 non-null     float64\n",
            " 18  Passengers          93 non-null     int64  \n",
            " 19  Length              93 non-null     int64  \n",
            " 20  Wheelbase           93 non-null     int64  \n",
            " 21  Width               93 non-null     int64  \n",
            " 22  Turn.circle         93 non-null     int64  \n",
            " 23  Rear.seat.room      91 non-null     float64\n",
            " 24  Luggage.room        82 non-null     float64\n",
            " 25  Weight              93 non-null     int64  \n",
            " 26  Origin              93 non-null     object \n",
            " 27  Make                93 non-null     object \n",
            "dtypes: float64(7), int64(12), object(9)\n",
            "memory usage: 20.5+ KB\n"
          ]
        }
      ],
      "source": [
        "# check the info of dataset\n",
        "df.info()\n"
      ]
    },
    {
      "cell_type": "code",
      "execution_count": 38,
      "metadata": {
        "colab": {
          "base_uri": "https://localhost:8080/"
        },
        "id": "3O6wNDb1BccL",
        "outputId": "effd4dfa-8275-4389-e2e5-2776752998fb"
      },
      "outputs": [
        {
          "data": {
            "text/plain": [
              "dtype('float64')"
            ]
          },
          "execution_count": 38,
          "metadata": {},
          "output_type": "execute_result"
        }
      ],
      "source": [
        "df['DriveTrain'].dtype\n",
        "df['Price'].dtype"
      ]
    },
    {
      "cell_type": "code",
      "execution_count": 39,
      "metadata": {
        "colab": {
          "base_uri": "https://localhost:8080/",
          "height": 304
        },
        "id": "dI9C44kABp1-",
        "outputId": "80ab8768-d04e-41ee-80b4-3e51bd989403"
      },
      "outputs": [
        {
          "data": {
            "text/plain": [
              "Type\n",
              "Midsize    22\n",
              "Small      21\n",
              "Compact    16\n",
              "Sporty     14\n",
              "Large      11\n",
              "Van         9\n",
              "Name: count, dtype: int64"
            ]
          },
          "execution_count": 39,
          "metadata": {},
          "output_type": "execute_result"
        }
      ],
      "source": [
        "df['Type'].value_counts()"
      ]
    },
    {
      "cell_type": "code",
      "execution_count": 40,
      "metadata": {
        "colab": {
          "base_uri": "https://localhost:8080/",
          "height": 962
        },
        "id": "0047a3b5",
        "outputId": "aae8d056-2af0-40e4-b4bd-420b5b2e922f"
      },
      "outputs": [
        {
          "data": {
            "text/plain": [
              "id                     0\n",
              "Manufacturer           0\n",
              "Model                  0\n",
              "Type                   0\n",
              "Min.Price              0\n",
              "Price                  0\n",
              "Max.Price              0\n",
              "MPG.city               0\n",
              "MPG.highway            0\n",
              "AirBags               37\n",
              "DriveTrain             0\n",
              "Cylinders              0\n",
              "EngineSize             0\n",
              "Horsepower             0\n",
              "RPM                    0\n",
              "Rev.per.mile           0\n",
              "Man.trans.avail        0\n",
              "Fuel.tank.capacity     0\n",
              "Passengers             0\n",
              "Length                 0\n",
              "Wheelbase              0\n",
              "Width                  0\n",
              "Turn.circle            0\n",
              "Rear.seat.room         2\n",
              "Luggage.room          11\n",
              "Weight                 0\n",
              "Origin                 0\n",
              "Make                   0\n",
              "dtype: int64"
            ]
          },
          "execution_count": 40,
          "metadata": {},
          "output_type": "execute_result"
        }
      ],
      "source": [
        "# check for null values\n",
        "df.isnull().sum()"
      ]
    },
    {
      "cell_type": "code",
      "execution_count": 41,
      "metadata": {
        "colab": {
          "base_uri": "https://localhost:8080/"
        },
        "id": "0f7c0a3e",
        "outputId": "4ad14f1d-dc8d-4aba-d1a7-6fa7775fcb3c"
      },
      "outputs": [
        {
          "data": {
            "text/plain": [
              "Index(['id', 'Manufacturer', 'Model', 'Type', 'Min.Price', 'Price',\n",
              "       'Max.Price', 'MPG.city', 'MPG.highway', 'AirBags', 'DriveTrain',\n",
              "       'Cylinders', 'EngineSize', 'Horsepower', 'RPM', 'Rev.per.mile',\n",
              "       'Man.trans.avail', 'Fuel.tank.capacity', 'Passengers', 'Length',\n",
              "       'Wheelbase', 'Width', 'Turn.circle', 'Rear.seat.room', 'Luggage.room',\n",
              "       'Weight', 'Origin', 'Make'],\n",
              "      dtype='object')"
            ]
          },
          "execution_count": 41,
          "metadata": {},
          "output_type": "execute_result"
        }
      ],
      "source": [
        "# display columns\n",
        "df.columns"
      ]
    },
    {
      "cell_type": "code",
      "execution_count": 42,
      "metadata": {
        "colab": {
          "base_uri": "https://localhost:8080/",
          "height": 304
        },
        "id": "m8qLwbAHCm7t",
        "outputId": "215ad105-50a0-4d7e-c3e5-26f2738dddd7"
      },
      "outputs": [
        {
          "data": {
            "text/plain": [
              "Cylinders\n",
              "4         49\n",
              "6         31\n",
              "8          7\n",
              "3          3\n",
              "5          2\n",
              "rotary     1\n",
              "Name: count, dtype: int64"
            ]
          },
          "execution_count": 42,
          "metadata": {},
          "output_type": "execute_result"
        }
      ],
      "source": [
        "df['Cylinders'].value_counts()"
      ]
    },
    {
      "cell_type": "code",
      "execution_count": 43,
      "metadata": {
        "colab": {
          "base_uri": "https://localhost:8080/",
          "height": 424
        },
        "id": "e1ad2540",
        "outputId": "e0a29230-ee62-452f-fde6-6da04e314497"
      },
      "outputs": [
        {
          "data": {
            "text/html": [
              "<div>\n",
              "<style scoped>\n",
              "    .dataframe tbody tr th:only-of-type {\n",
              "        vertical-align: middle;\n",
              "    }\n",
              "\n",
              "    .dataframe tbody tr th {\n",
              "        vertical-align: top;\n",
              "    }\n",
              "\n",
              "    .dataframe thead th {\n",
              "        text-align: right;\n",
              "    }\n",
              "</style>\n",
              "<table border=\"1\" class=\"dataframe\">\n",
              "  <thead>\n",
              "    <tr style=\"text-align: right;\">\n",
              "      <th></th>\n",
              "      <th>id</th>\n",
              "      <th>Min.Price</th>\n",
              "      <th>Price</th>\n",
              "      <th>Max.Price</th>\n",
              "      <th>MPG.city</th>\n",
              "      <th>MPG.highway</th>\n",
              "      <th>EngineSize</th>\n",
              "      <th>Horsepower</th>\n",
              "      <th>RPM</th>\n",
              "      <th>Rev.per.mile</th>\n",
              "      <th>Fuel.tank.capacity</th>\n",
              "      <th>Passengers</th>\n",
              "      <th>Length</th>\n",
              "      <th>Wheelbase</th>\n",
              "      <th>Width</th>\n",
              "      <th>Turn.circle</th>\n",
              "      <th>Rear.seat.room</th>\n",
              "      <th>Luggage.room</th>\n",
              "      <th>Weight</th>\n",
              "    </tr>\n",
              "  </thead>\n",
              "  <tbody>\n",
              "    <tr>\n",
              "      <th>0</th>\n",
              "      <td>1</td>\n",
              "      <td>12.9</td>\n",
              "      <td>15.9</td>\n",
              "      <td>18.8</td>\n",
              "      <td>25</td>\n",
              "      <td>31</td>\n",
              "      <td>1.8</td>\n",
              "      <td>140</td>\n",
              "      <td>6300</td>\n",
              "      <td>2890</td>\n",
              "      <td>13.2</td>\n",
              "      <td>5</td>\n",
              "      <td>177</td>\n",
              "      <td>102</td>\n",
              "      <td>68</td>\n",
              "      <td>37</td>\n",
              "      <td>26.5</td>\n",
              "      <td>11.0</td>\n",
              "      <td>2705</td>\n",
              "    </tr>\n",
              "    <tr>\n",
              "      <th>1</th>\n",
              "      <td>2</td>\n",
              "      <td>29.2</td>\n",
              "      <td>33.9</td>\n",
              "      <td>38.7</td>\n",
              "      <td>18</td>\n",
              "      <td>25</td>\n",
              "      <td>3.2</td>\n",
              "      <td>200</td>\n",
              "      <td>5500</td>\n",
              "      <td>2335</td>\n",
              "      <td>18.0</td>\n",
              "      <td>5</td>\n",
              "      <td>195</td>\n",
              "      <td>115</td>\n",
              "      <td>71</td>\n",
              "      <td>38</td>\n",
              "      <td>30.0</td>\n",
              "      <td>15.0</td>\n",
              "      <td>3560</td>\n",
              "    </tr>\n",
              "    <tr>\n",
              "      <th>2</th>\n",
              "      <td>3</td>\n",
              "      <td>25.9</td>\n",
              "      <td>29.1</td>\n",
              "      <td>32.3</td>\n",
              "      <td>20</td>\n",
              "      <td>26</td>\n",
              "      <td>2.8</td>\n",
              "      <td>172</td>\n",
              "      <td>5500</td>\n",
              "      <td>2280</td>\n",
              "      <td>16.9</td>\n",
              "      <td>5</td>\n",
              "      <td>180</td>\n",
              "      <td>102</td>\n",
              "      <td>67</td>\n",
              "      <td>37</td>\n",
              "      <td>28.0</td>\n",
              "      <td>14.0</td>\n",
              "      <td>3375</td>\n",
              "    </tr>\n",
              "    <tr>\n",
              "      <th>3</th>\n",
              "      <td>4</td>\n",
              "      <td>30.8</td>\n",
              "      <td>37.7</td>\n",
              "      <td>44.6</td>\n",
              "      <td>19</td>\n",
              "      <td>26</td>\n",
              "      <td>2.8</td>\n",
              "      <td>172</td>\n",
              "      <td>5500</td>\n",
              "      <td>2535</td>\n",
              "      <td>21.1</td>\n",
              "      <td>6</td>\n",
              "      <td>193</td>\n",
              "      <td>106</td>\n",
              "      <td>70</td>\n",
              "      <td>37</td>\n",
              "      <td>31.0</td>\n",
              "      <td>17.0</td>\n",
              "      <td>3405</td>\n",
              "    </tr>\n",
              "    <tr>\n",
              "      <th>4</th>\n",
              "      <td>5</td>\n",
              "      <td>23.7</td>\n",
              "      <td>30.0</td>\n",
              "      <td>36.2</td>\n",
              "      <td>22</td>\n",
              "      <td>30</td>\n",
              "      <td>3.5</td>\n",
              "      <td>208</td>\n",
              "      <td>5700</td>\n",
              "      <td>2545</td>\n",
              "      <td>21.1</td>\n",
              "      <td>4</td>\n",
              "      <td>186</td>\n",
              "      <td>109</td>\n",
              "      <td>69</td>\n",
              "      <td>39</td>\n",
              "      <td>27.0</td>\n",
              "      <td>13.0</td>\n",
              "      <td>3640</td>\n",
              "    </tr>\n",
              "    <tr>\n",
              "      <th>...</th>\n",
              "      <td>...</td>\n",
              "      <td>...</td>\n",
              "      <td>...</td>\n",
              "      <td>...</td>\n",
              "      <td>...</td>\n",
              "      <td>...</td>\n",
              "      <td>...</td>\n",
              "      <td>...</td>\n",
              "      <td>...</td>\n",
              "      <td>...</td>\n",
              "      <td>...</td>\n",
              "      <td>...</td>\n",
              "      <td>...</td>\n",
              "      <td>...</td>\n",
              "      <td>...</td>\n",
              "      <td>...</td>\n",
              "      <td>...</td>\n",
              "      <td>...</td>\n",
              "      <td>...</td>\n",
              "    </tr>\n",
              "    <tr>\n",
              "      <th>88</th>\n",
              "      <td>89</td>\n",
              "      <td>16.6</td>\n",
              "      <td>19.7</td>\n",
              "      <td>22.7</td>\n",
              "      <td>17</td>\n",
              "      <td>21</td>\n",
              "      <td>2.5</td>\n",
              "      <td>109</td>\n",
              "      <td>4500</td>\n",
              "      <td>2915</td>\n",
              "      <td>21.1</td>\n",
              "      <td>7</td>\n",
              "      <td>187</td>\n",
              "      <td>115</td>\n",
              "      <td>72</td>\n",
              "      <td>38</td>\n",
              "      <td>34.0</td>\n",
              "      <td>NaN</td>\n",
              "      <td>3960</td>\n",
              "    </tr>\n",
              "    <tr>\n",
              "      <th>89</th>\n",
              "      <td>90</td>\n",
              "      <td>17.6</td>\n",
              "      <td>20.0</td>\n",
              "      <td>22.4</td>\n",
              "      <td>21</td>\n",
              "      <td>30</td>\n",
              "      <td>2.0</td>\n",
              "      <td>134</td>\n",
              "      <td>5800</td>\n",
              "      <td>2685</td>\n",
              "      <td>18.5</td>\n",
              "      <td>5</td>\n",
              "      <td>180</td>\n",
              "      <td>103</td>\n",
              "      <td>67</td>\n",
              "      <td>35</td>\n",
              "      <td>31.5</td>\n",
              "      <td>14.0</td>\n",
              "      <td>2985</td>\n",
              "    </tr>\n",
              "    <tr>\n",
              "      <th>90</th>\n",
              "      <td>91</td>\n",
              "      <td>22.9</td>\n",
              "      <td>23.3</td>\n",
              "      <td>23.7</td>\n",
              "      <td>18</td>\n",
              "      <td>25</td>\n",
              "      <td>2.8</td>\n",
              "      <td>178</td>\n",
              "      <td>5800</td>\n",
              "      <td>2385</td>\n",
              "      <td>18.5</td>\n",
              "      <td>4</td>\n",
              "      <td>159</td>\n",
              "      <td>97</td>\n",
              "      <td>66</td>\n",
              "      <td>36</td>\n",
              "      <td>26.0</td>\n",
              "      <td>15.0</td>\n",
              "      <td>2810</td>\n",
              "    </tr>\n",
              "    <tr>\n",
              "      <th>91</th>\n",
              "      <td>92</td>\n",
              "      <td>21.8</td>\n",
              "      <td>22.7</td>\n",
              "      <td>23.5</td>\n",
              "      <td>21</td>\n",
              "      <td>28</td>\n",
              "      <td>2.3</td>\n",
              "      <td>114</td>\n",
              "      <td>5400</td>\n",
              "      <td>2215</td>\n",
              "      <td>15.8</td>\n",
              "      <td>5</td>\n",
              "      <td>190</td>\n",
              "      <td>104</td>\n",
              "      <td>67</td>\n",
              "      <td>37</td>\n",
              "      <td>29.5</td>\n",
              "      <td>14.0</td>\n",
              "      <td>2985</td>\n",
              "    </tr>\n",
              "    <tr>\n",
              "      <th>92</th>\n",
              "      <td>93</td>\n",
              "      <td>24.8</td>\n",
              "      <td>26.7</td>\n",
              "      <td>28.5</td>\n",
              "      <td>20</td>\n",
              "      <td>28</td>\n",
              "      <td>2.4</td>\n",
              "      <td>168</td>\n",
              "      <td>6200</td>\n",
              "      <td>2310</td>\n",
              "      <td>19.3</td>\n",
              "      <td>5</td>\n",
              "      <td>184</td>\n",
              "      <td>105</td>\n",
              "      <td>69</td>\n",
              "      <td>38</td>\n",
              "      <td>30.0</td>\n",
              "      <td>15.0</td>\n",
              "      <td>3245</td>\n",
              "    </tr>\n",
              "  </tbody>\n",
              "</table>\n",
              "<p>93 rows × 19 columns</p>\n",
              "</div>"
            ],
            "text/plain": [
              "    id  Min.Price  Price  Max.Price  MPG.city  MPG.highway  EngineSize  \\\n",
              "0    1       12.9   15.9       18.8        25           31         1.8   \n",
              "1    2       29.2   33.9       38.7        18           25         3.2   \n",
              "2    3       25.9   29.1       32.3        20           26         2.8   \n",
              "3    4       30.8   37.7       44.6        19           26         2.8   \n",
              "4    5       23.7   30.0       36.2        22           30         3.5   \n",
              "..  ..        ...    ...        ...       ...          ...         ...   \n",
              "88  89       16.6   19.7       22.7        17           21         2.5   \n",
              "89  90       17.6   20.0       22.4        21           30         2.0   \n",
              "90  91       22.9   23.3       23.7        18           25         2.8   \n",
              "91  92       21.8   22.7       23.5        21           28         2.3   \n",
              "92  93       24.8   26.7       28.5        20           28         2.4   \n",
              "\n",
              "    Horsepower   RPM  Rev.per.mile  Fuel.tank.capacity  Passengers  Length  \\\n",
              "0          140  6300          2890                13.2           5     177   \n",
              "1          200  5500          2335                18.0           5     195   \n",
              "2          172  5500          2280                16.9           5     180   \n",
              "3          172  5500          2535                21.1           6     193   \n",
              "4          208  5700          2545                21.1           4     186   \n",
              "..         ...   ...           ...                 ...         ...     ...   \n",
              "88         109  4500          2915                21.1           7     187   \n",
              "89         134  5800          2685                18.5           5     180   \n",
              "90         178  5800          2385                18.5           4     159   \n",
              "91         114  5400          2215                15.8           5     190   \n",
              "92         168  6200          2310                19.3           5     184   \n",
              "\n",
              "    Wheelbase  Width  Turn.circle  Rear.seat.room  Luggage.room  Weight  \n",
              "0         102     68           37            26.5          11.0    2705  \n",
              "1         115     71           38            30.0          15.0    3560  \n",
              "2         102     67           37            28.0          14.0    3375  \n",
              "3         106     70           37            31.0          17.0    3405  \n",
              "4         109     69           39            27.0          13.0    3640  \n",
              "..        ...    ...          ...             ...           ...     ...  \n",
              "88        115     72           38            34.0           NaN    3960  \n",
              "89        103     67           35            31.5          14.0    2985  \n",
              "90         97     66           36            26.0          15.0    2810  \n",
              "91        104     67           37            29.5          14.0    2985  \n",
              "92        105     69           38            30.0          15.0    3245  \n",
              "\n",
              "[93 rows x 19 columns]"
            ]
          },
          "execution_count": 43,
          "metadata": {},
          "output_type": "execute_result"
        }
      ],
      "source": [
        "# Seggregate data in categorical and continuous type\n",
        "\n",
        "# Display categorical values qualitative/ object\n",
        "catdf=df.select_dtypes(include='object')\n",
        "catdf\n",
        "\n",
        "# display continuous values/ quantitative/ numerical int,float\n",
        "\n",
        "condf=df.select_dtypes(exclude='object')\n",
        "condf"
      ]
    },
    {
      "cell_type": "markdown",
      "metadata": {
        "id": "8pITQDArZJWs"
      },
      "source": [
        "Handle Missing Values"
      ]
    },
    {
      "cell_type": "code",
      "execution_count": 44,
      "metadata": {
        "colab": {
          "base_uri": "https://localhost:8080/",
          "height": 680
        },
        "id": "21JsdQ4HZOGO",
        "outputId": "2da501d2-e825-4bea-bd72-2001a689776d"
      },
      "outputs": [
        {
          "data": {
            "text/plain": [
              "id                     0\n",
              "Min.Price              0\n",
              "Price                  0\n",
              "Max.Price              0\n",
              "MPG.city               0\n",
              "MPG.highway            0\n",
              "EngineSize             0\n",
              "Horsepower             0\n",
              "RPM                    0\n",
              "Rev.per.mile           0\n",
              "Fuel.tank.capacity     0\n",
              "Passengers             0\n",
              "Length                 0\n",
              "Wheelbase              0\n",
              "Width                  0\n",
              "Turn.circle            0\n",
              "Rear.seat.room         2\n",
              "Luggage.room          11\n",
              "Weight                 0\n",
              "dtype: int64"
            ]
          },
          "execution_count": 44,
          "metadata": {},
          "output_type": "execute_result"
        }
      ],
      "source": [
        "# Check for missing values\n",
        "catdf.isnull().sum()\n",
        "condf.isnull().sum()\n",
        "\n",
        "# Fill missing values\n",
        "# for numerical data fill with the mean value\n",
        "# for categorical data fill with mode(most frequent value)\n",
        "\n",
        "# Drop missing rows\n",
        "\n",
        "\n",
        "# Remove duplicates\n"
      ]
    },
    {
      "cell_type": "code",
      "execution_count": 45,
      "metadata": {
        "colab": {
          "base_uri": "https://localhost:8080/",
          "height": 1000
        },
        "id": "eyW8XMSPEUzW",
        "outputId": "440bdcef-08cf-4f45-b3b5-9ffb11141fd8"
      },
      "outputs": [
        {
          "data": {
            "text/plain": [
              "Manufacturer\n",
              "Chevrolet        8\n",
              "Ford             8\n",
              "Dodge            6\n",
              "Pontiac          5\n",
              "Mazda            5\n",
              "Volkswagen       4\n",
              "Buick            4\n",
              "Toyota           4\n",
              "Oldsmobile       4\n",
              "Nissan           4\n",
              "Hyundai          4\n",
              "Subaru           3\n",
              "Honda            3\n",
              "Mercury          2\n",
              "Acura            2\n",
              "Mitsubishi       2\n",
              "Mercedes-Benz    2\n",
              "Lincoln          2\n",
              "Audi             2\n",
              "Lexus            2\n",
              "Geo              2\n",
              "Eagle            2\n",
              "Chrysler         2\n",
              "Cadillac         2\n",
              "Volvo            2\n",
              "Infiniti         1\n",
              "Plymouth         1\n",
              "Saab             1\n",
              "Saturn           1\n",
              "Chrylser         1\n",
              "Suzuki           1\n",
              "BMW              1\n",
              "Name: count, dtype: int64"
            ]
          },
          "execution_count": 45,
          "metadata": {},
          "output_type": "execute_result"
        }
      ],
      "source": [
        "df['Manufacturer'].value_counts()"
      ]
    },
    {
      "cell_type": "code",
      "execution_count": 46,
      "metadata": {
        "id": "K5z1-ddnDczt"
      },
      "outputs": [],
      "source": [
        "# Treating the missing values\n",
        "\n",
        "for i in df.columns:\n",
        "  if df[i].dtypes=='object':\n",
        "    m=df[i].mode()[0] # modal value of every categorical column\n",
        "    df[i]=df[i].fillna(m) # fill up null values with mode values\n",
        "  else:\n",
        "    me=df[i].mean()\n",
        "    df[i]=df[i].fillna(me)\n"
      ]
    },
    {
      "cell_type": "code",
      "execution_count": 47,
      "metadata": {
        "colab": {
          "base_uri": "https://localhost:8080/",
          "height": 962
        },
        "id": "zd3hMdrsE74W",
        "outputId": "366274e5-5180-40c5-ebdc-28a4757e3edc"
      },
      "outputs": [
        {
          "data": {
            "text/plain": [
              "id                    0\n",
              "Manufacturer          0\n",
              "Model                 0\n",
              "Type                  0\n",
              "Min.Price             0\n",
              "Price                 0\n",
              "Max.Price             0\n",
              "MPG.city              0\n",
              "MPG.highway           0\n",
              "AirBags               0\n",
              "DriveTrain            0\n",
              "Cylinders             0\n",
              "EngineSize            0\n",
              "Horsepower            0\n",
              "RPM                   0\n",
              "Rev.per.mile          0\n",
              "Man.trans.avail       0\n",
              "Fuel.tank.capacity    0\n",
              "Passengers            0\n",
              "Length                0\n",
              "Wheelbase             0\n",
              "Width                 0\n",
              "Turn.circle           0\n",
              "Rear.seat.room        0\n",
              "Luggage.room          0\n",
              "Weight                0\n",
              "Origin                0\n",
              "Make                  0\n",
              "dtype: int64"
            ]
          },
          "execution_count": 47,
          "metadata": {},
          "output_type": "execute_result"
        }
      ],
      "source": [
        "df.isnull().sum()"
      ]
    },
    {
      "cell_type": "markdown",
      "metadata": {
        "id": "M41P0rMKZPHK"
      },
      "source": [
        "# Analyse Data\n",
        "unique() <br>\n",
        "value_counts() <br>\n"
      ]
    },
    {
      "cell_type": "code",
      "execution_count": 48,
      "metadata": {
        "colab": {
          "base_uri": "https://localhost:8080/",
          "height": 304
        },
        "id": "RPS-PbJhu9UO",
        "outputId": "581736cb-e717-4ae8-b7f5-7f0bd158812a"
      },
      "outputs": [
        {
          "data": {
            "text/plain": [
              "Type\n",
              "Midsize    22\n",
              "Small      21\n",
              "Compact    16\n",
              "Sporty     14\n",
              "Large      11\n",
              "Van         9\n",
              "Name: count, dtype: int64"
            ]
          },
          "execution_count": 48,
          "metadata": {},
          "output_type": "execute_result"
        }
      ],
      "source": [
        "df['Type'].value_counts()"
      ]
    },
    {
      "cell_type": "code",
      "execution_count": 49,
      "metadata": {
        "colab": {
          "base_uri": "https://localhost:8080/"
        },
        "id": "_Nj4PbDCuybh",
        "outputId": "c9687d2d-57bb-4881-aed4-38fe9ab888d2"
      },
      "outputs": [
        {
          "data": {
            "text/plain": [
              "array(['Small', 'Midsize', 'Compact', 'Large', 'Sporty', 'Van'],\n",
              "      dtype=object)"
            ]
          },
          "execution_count": 49,
          "metadata": {},
          "output_type": "execute_result"
        }
      ],
      "source": [
        "df['Type'].unique()"
      ]
    },
    {
      "cell_type": "code",
      "execution_count": 50,
      "metadata": {
        "colab": {
          "base_uri": "https://localhost:8080/"
        },
        "id": "kLrnQNwmvDdc",
        "outputId": "04daaa7e-6401-4fbd-8ace-4b2c59944b53"
      },
      "outputs": [
        {
          "data": {
            "text/plain": [
              "6"
            ]
          },
          "execution_count": 50,
          "metadata": {},
          "output_type": "execute_result"
        }
      ],
      "source": [
        "# nunique\n",
        "df['Type'].nunique()"
      ]
    },
    {
      "cell_type": "code",
      "execution_count": 51,
      "metadata": {
        "colab": {
          "base_uri": "https://localhost:8080/"
        },
        "id": "fy27dbbgvPl2",
        "outputId": "3f66ad37-e902-4c4f-e047-951fe4b44914"
      },
      "outputs": [
        {
          "data": {
            "text/plain": [
              "Index(['id', 'Manufacturer', 'Model', 'Type', 'Min.Price', 'Price',\n",
              "       'Max.Price', 'MPG.city', 'MPG.highway', 'AirBags', 'DriveTrain',\n",
              "       'Cylinders', 'EngineSize', 'Horsepower', 'RPM', 'Rev.per.mile',\n",
              "       'Man.trans.avail', 'Fuel.tank.capacity', 'Passengers', 'Length',\n",
              "       'Wheelbase', 'Width', 'Turn.circle', 'Rear.seat.room', 'Luggage.room',\n",
              "       'Weight', 'Origin', 'Make'],\n",
              "      dtype='object')"
            ]
          },
          "execution_count": 51,
          "metadata": {},
          "output_type": "execute_result"
        }
      ],
      "source": [
        "df.columns"
      ]
    },
    {
      "cell_type": "markdown",
      "metadata": {
        "id": "C6TVmKkaZaeB"
      },
      "source": [
        "# Libraries for Data Visualization\n",
        "import seaborn as sns <br>\n",
        "import matplotlib.pyplot as plt\n"
      ]
    },
    {
      "cell_type": "code",
      "execution_count": 52,
      "metadata": {
        "id": "XCHsSxKtww8N"
      },
      "outputs": [],
      "source": [
        "import matplotlib.pyplot as plt\n",
        "import seaborn as sns\n"
      ]
    },
    {
      "cell_type": "code",
      "execution_count": 53,
      "metadata": {
        "colab": {
          "base_uri": "https://localhost:8080/",
          "height": 447
        },
        "id": "8V-olFpPwfrq",
        "outputId": "7a079fab-8c5d-4075-db9f-23737d9f8c7a"
      },
      "outputs": [
        {
          "data": {
            "text/plain": [
              "<Axes: ylabel='Frequency'>"
            ]
          },
          "execution_count": 53,
          "metadata": {},
          "output_type": "execute_result"
        },
        {
          "data": {
            "image/png": "[encoded data removed]",
            "text/plain": [
              "<Figure size 640x480 with 1 Axes>"
            ]
          },
          "metadata": {},
          "output_type": "display_data"
        }
      ],
      "source": [
        "df['Price'].plot(kind='hist')"
      ]
    },
    {
      "cell_type": "markdown",
      "metadata": {
        "id": "ee7bad5d"
      },
      "source": [
        "# Univariate - Categorical Variable\n",
        "Bar Chart"
      ]
    },
    {
      "cell_type": "code",
      "execution_count": 54,
      "metadata": {
        "id": "b8a9f01d"
      },
      "outputs": [],
      "source": [
        "# Let's consider 'Type' as a categorical variable.\n",
        "\n"
      ]
    },
    {
      "cell_type": "markdown",
      "metadata": {
        "id": "65a51cd4"
      },
      "source": [
        "# Univariate - Categorical Variable\n",
        "Pie Chart"
      ]
    },
    {
      "cell_type": "code",
      "execution_count": 55,
      "metadata": {
        "colab": {
          "base_uri": "https://localhost:8080/",
          "height": 545
        },
        "id": "ca674959",
        "outputId": "73563929-d567-4d13-da96-add44515f4aa"
      },
      "outputs": [
        {
          "name": "stdout",
          "output_type": "stream",
          "text": [
            "Type\n",
            "Midsize    22\n",
            "Small      21\n",
            "Compact    16\n",
            "Sporty     14\n",
            "Large      11\n",
            "Van         9\n",
            "Name: count, dtype: int64\n"
          ]
        },
        {
          "data": {
            "image/png": "[encoded data removed]",
            "text/plain": [
              "<Figure size 640x480 with 1 Axes>"
            ]
          },
          "metadata": {},
          "output_type": "display_data"
        }
      ],
      "source": [
        "# pie chart of Type of Cars\n",
        "t=df['Type'].value_counts()\n",
        "print(t)\n",
        "plt.pie(t,labels=t.index,autopct='%1.2f%%') # %d - int\n",
        "plt.show()"
      ]
    },
    {
      "cell_type": "markdown",
      "metadata": {
        "id": "1ecb8c12"
      },
      "source": [
        "# Univariate - Categorical Variable\n",
        "Count plot"
      ]
    },
    {
      "cell_type": "code",
      "execution_count": 56,
      "metadata": {
        "colab": {
          "base_uri": "https://localhost:8080/",
          "height": 333
        },
        "id": "0ebcb8d3",
        "outputId": "a9593b81-a815-4db1-c051-f3e3429a871e"
      },
      "outputs": [
        {
          "data": {
            "image/png": "[encoded data removed]",
            "text/plain": [
              "<Figure size 600x300 with 1 Axes>"
            ]
          },
          "metadata": {},
          "output_type": "display_data"
        }
      ],
      "source": [
        "plt.figure(figsize=(6,3))\n",
        "sns.countplot(x='Type',data=df)\n",
        "plt.title('Countplot of Types of Car')\n",
        "plt.show()"
      ]
    },
    {
      "cell_type": "markdown",
      "metadata": {
        "id": "04e0dc28"
      },
      "source": [
        "# Univariate - Numeric Variable\n",
        "Histogram"
      ]
    },
    {
      "cell_type": "code",
      "execution_count": 57,
      "metadata": {
        "colab": {
          "base_uri": "https://localhost:8080/",
          "height": 410
        },
        "id": "11dc654c",
        "outputId": "8cdfaec9-17bf-4208-e9fa-fd1316fd85ca"
      },
      "outputs": [
        {
          "data": {
            "image/png": "[encoded data removed]",
            "text/plain": [
              "<Figure size 500x400 with 1 Axes>"
            ]
          },
          "metadata": {},
          "output_type": "display_data"
        }
      ],
      "source": [
        "plt.figure(figsize=(5,4)) # dimension/ size of the visual\n",
        "plt.hist(df['Price'],edgecolor='black')\n",
        "plt.xlabel('Price') # xlabel\n",
        "plt.ylabel('Frequency') # ylabel\n",
        "plt.title('Histogram of Price')# title\n",
        "plt.show()"
      ]
    },
    {
      "cell_type": "markdown",
      "metadata": {
        "id": "34412ea6"
      },
      "source": [
        "# Bivariate Analysis\n",
        "## continuous vs continous\n",
        "### numerical values\n",
        "### Scatter Plot"
      ]
    },
    {
      "cell_type": "code",
      "execution_count": 64,
      "metadata": {},
      "outputs": [
        {
          "data": {
            "image/png": "[encoded data removed]",
            "text/plain": [
              "<Figure size 400x300 with 1 Axes>"
            ]
          },
          "metadata": {},
          "output_type": "display_data"
        }
      ],
      "source": [
        "plt.figure(figsize=(4,3))\n",
        "plt.scatter(df['Price'],df['Horsepower'])\n",
        "plt.xlabel(\"Price of vehicle\")\n",
        "plt.ylabel('Enginesize')\n",
        "plt.show()"
      ]
    },
    {
      "cell_type": "code",
      "execution_count": 58,
      "metadata": {
        "colab": {
          "base_uri": "https://localhost:8080/",
          "height": 311
        },
        "id": "f48a832d",
        "outputId": "e6d8b85f-9f94-49c7-957f-bedc66a0d0b8"
      },
      "outputs": [
        {
          "data": {
            "image/png": "[encoded data removed]",
            "text/plain": [
              "<Figure size 400x300 with 1 Axes>"
            ]
          },
          "metadata": {},
          "output_type": "display_data"
        }
      ],
      "source": [
        "plt.figure(figsize=(4,3))\n",
        "plt.scatter(df['Price'],df['EngineSize'])\n",
        "plt.xlabel(\"Price of vehicle\")\n",
        "plt.ylabel('Enginesize')\n",
        "plt.show()"
      ]
    },
    {
      "cell_type": "markdown",
      "metadata": {
        "id": "46f5f408"
      },
      "source": [
        "# Correlation\n"
      ]
    },
    {
      "cell_type": "code",
      "execution_count": 59,
      "metadata": {
        "colab": {
          "base_uri": "https://localhost:8080/",
          "height": 175
        },
        "id": "efd2d8c1",
        "outputId": "73a7e109-e8b0-40c9-e5e2-de89ebf2bfc4"
      },
      "outputs": [
        {
          "data": {
            "text/html": [
              "<div>\n",
              "<style scoped>\n",
              "    .dataframe tbody tr th:only-of-type {\n",
              "        vertical-align: middle;\n",
              "    }\n",
              "\n",
              "    .dataframe tbody tr th {\n",
              "        vertical-align: top;\n",
              "    }\n",
              "\n",
              "    .dataframe thead th {\n",
              "        text-align: right;\n",
              "    }\n",
              "</style>\n",
              "<table border=\"1\" class=\"dataframe\">\n",
              "  <thead>\n",
              "    <tr style=\"text-align: right;\">\n",
              "      <th></th>\n",
              "      <th>Price</th>\n",
              "      <th>EngineSize</th>\n",
              "      <th>Weight</th>\n",
              "      <th>MPG.city</th>\n",
              "    </tr>\n",
              "  </thead>\n",
              "  <tbody>\n",
              "    <tr>\n",
              "      <th>Price</th>\n",
              "      <td>1.000000</td>\n",
              "      <td>0.597425</td>\n",
              "      <td>0.647179</td>\n",
              "      <td>-0.594562</td>\n",
              "    </tr>\n",
              "    <tr>\n",
              "      <th>EngineSize</th>\n",
              "      <td>0.597425</td>\n",
              "      <td>1.000000</td>\n",
              "      <td>0.845075</td>\n",
              "      <td>-0.710003</td>\n",
              "    </tr>\n",
              "    <tr>\n",
              "      <th>Weight</th>\n",
              "      <td>0.647179</td>\n",
              "      <td>0.845075</td>\n",
              "      <td>1.000000</td>\n",
              "      <td>-0.843139</td>\n",
              "    </tr>\n",
              "    <tr>\n",
              "      <th>MPG.city</th>\n",
              "      <td>-0.594562</td>\n",
              "      <td>-0.710003</td>\n",
              "      <td>-0.843139</td>\n",
              "      <td>1.000000</td>\n",
              "    </tr>\n",
              "  </tbody>\n",
              "</table>\n",
              "</div>"
            ],
            "text/plain": [
              "               Price  EngineSize    Weight  MPG.city\n",
              "Price       1.000000    0.597425  0.647179 -0.594562\n",
              "EngineSize  0.597425    1.000000  0.845075 -0.710003\n",
              "Weight      0.647179    0.845075  1.000000 -0.843139\n",
              "MPG.city   -0.594562   -0.710003 -0.843139  1.000000"
            ]
          },
          "execution_count": 59,
          "metadata": {},
          "output_type": "execute_result"
        }
      ],
      "source": [
        "df[['Price','EngineSize','Weight','MPG.city']].corr()"
      ]
    },
    {
      "cell_type": "markdown",
      "metadata": {
        "id": "bb4d6f90"
      },
      "source": [
        "# Categorical vs. Continuous Analysis:\n",
        "Box Plot"
      ]
    },
    {
      "cell_type": "markdown",
      "metadata": {
        "id": "dl4r70AGBwmr"
      },
      "source": []
    },
    {
      "cell_type": "code",
      "execution_count": 60,
      "metadata": {
        "colab": {
          "base_uri": "https://localhost:8080/",
          "height": 311
        },
        "id": "6d6f3586",
        "outputId": "d342f79d-0347-4ff7-9af0-6137686ae6fa"
      },
      "outputs": [
        {
          "data": {
            "image/png": "[encoded data removed]",
            "text/plain": [
              "<Figure size 600x300 with 1 Axes>"
            ]
          },
          "metadata": {},
          "output_type": "display_data"
        }
      ],
      "source": [
        "plt.figure(figsize=(6,3))\n",
        "sns.boxplot(x='Type',y='Price',data=df)\n",
        "plt.show()"
      ]
    },
    {
      "cell_type": "markdown",
      "metadata": {
        "id": "0da37fd8"
      },
      "source": [
        "# Categorical vs Categorical\n",
        "Cross Tab , Heatmap"
      ]
    },
    {
      "cell_type": "code",
      "execution_count": null,
      "metadata": {
        "id": "ZqL1vW2h8PmX"
      },
      "outputs": [],
      "source": []
    },
    {
      "cell_type": "code",
      "execution_count": 61,
      "metadata": {
        "colab": {
          "base_uri": "https://localhost:8080/",
          "height": 269
        },
        "id": "H43Rtmod7yQW",
        "outputId": "af7f4033-7456-43af-b66e-8dd4c97c29fe"
      },
      "outputs": [
        {
          "data": {
            "text/html": [
              "<div>\n",
              "<style scoped>\n",
              "    .dataframe tbody tr th:only-of-type {\n",
              "        vertical-align: middle;\n",
              "    }\n",
              "\n",
              "    .dataframe tbody tr th {\n",
              "        vertical-align: top;\n",
              "    }\n",
              "\n",
              "    .dataframe thead th {\n",
              "        text-align: right;\n",
              "    }\n",
              "</style>\n",
              "<table border=\"1\" class=\"dataframe\">\n",
              "  <thead>\n",
              "    <tr style=\"text-align: right;\">\n",
              "      <th>Origin</th>\n",
              "      <th>USA</th>\n",
              "      <th>non-USA</th>\n",
              "    </tr>\n",
              "    <tr>\n",
              "      <th>Type</th>\n",
              "      <th></th>\n",
              "      <th></th>\n",
              "    </tr>\n",
              "  </thead>\n",
              "  <tbody>\n",
              "    <tr>\n",
              "      <th>Compact</th>\n",
              "      <td>7</td>\n",
              "      <td>9</td>\n",
              "    </tr>\n",
              "    <tr>\n",
              "      <th>Large</th>\n",
              "      <td>11</td>\n",
              "      <td>0</td>\n",
              "    </tr>\n",
              "    <tr>\n",
              "      <th>Midsize</th>\n",
              "      <td>10</td>\n",
              "      <td>12</td>\n",
              "    </tr>\n",
              "    <tr>\n",
              "      <th>Small</th>\n",
              "      <td>7</td>\n",
              "      <td>14</td>\n",
              "    </tr>\n",
              "    <tr>\n",
              "      <th>Sporty</th>\n",
              "      <td>8</td>\n",
              "      <td>6</td>\n",
              "    </tr>\n",
              "    <tr>\n",
              "      <th>Van</th>\n",
              "      <td>5</td>\n",
              "      <td>4</td>\n",
              "    </tr>\n",
              "  </tbody>\n",
              "</table>\n",
              "</div>"
            ],
            "text/plain": [
              "Origin   USA  non-USA\n",
              "Type                 \n",
              "Compact    7        9\n",
              "Large     11        0\n",
              "Midsize   10       12\n",
              "Small      7       14\n",
              "Sporty     8        6\n",
              "Van        5        4"
            ]
          },
          "execution_count": 61,
          "metadata": {},
          "output_type": "execute_result"
        }
      ],
      "source": [
        "cross_tab=pd.crosstab(df['Type'],df['Origin'])\n",
        "cross_tab"
      ]
    },
    {
      "cell_type": "code",
      "execution_count": 62,
      "metadata": {
        "colab": {
          "base_uri": "https://localhost:8080/",
          "height": 455
        },
        "id": "4xVDDf-X8aqH",
        "outputId": "0822e518-6579-4742-bac7-d22c39683f71"
      },
      "outputs": [
        {
          "data": {
            "image/png": "[encoded data removed]",
            "text/plain": [
              "<Figure size 640x480 with 2 Axes>"
            ]
          },
          "metadata": {},
          "output_type": "display_data"
        }
      ],
      "source": [
        "sns.heatmap(cross_tab,annot=True)\n",
        "plt.show()"
      ]
    },
    {
      "cell_type": "markdown",
      "metadata": {
        "id": "67a646ec"
      },
      "source": [
        "# Multivariate Analysis\n",
        "pairplot"
      ]
    },
    {
      "cell_type": "code",
      "execution_count": 63,
      "metadata": {
        "colab": {
          "base_uri": "https://localhost:8080/",
          "height": 285
        },
        "id": "890b6427",
        "outputId": "50517704-d9d5-46a9-d89d-6f51fdc0b2c4"
      },
      "outputs": [
        {
          "data": {
            "text/plain": [
              "<seaborn.axisgrid.PairGrid at 0x2ced0658e10>"
            ]
          },
          "execution_count": 63,
          "metadata": {},
          "output_type": "execute_result"
        },
        {
          "data": {
            "image/png": "[encoded data removed]",
            "text/plain": [
              "<Figure size 1000x250 with 4 Axes>"
            ]
          },
          "metadata": {},
          "output_type": "display_data"
        }
      ],
      "source": [
        "sns.pairplot(df, x_vars=['EngineSize','Horsepower','Weight','MPG.highway'],y_vars='Price')"
      ]
    }
  ],
  "metadata": {
    "colab": {
      "provenance": []
    },
    "kernelspec": {
      "display_name": "Python 3",
      "name": "python3"
    },
    "language_info": {
      "codemirror_mode": {
        "name": "ipython",
        "version": 3
      },
      "file_extension": ".py",
      "mimetype": "text/x-python",
      "name": "python",
      "nbconvert_exporter": "python",
      "pygments_lexer": "ipython3",
      "version": "3.13.5"
    }
  },
  "nbformat": 4,
  "nbformat_minor": 0
}
